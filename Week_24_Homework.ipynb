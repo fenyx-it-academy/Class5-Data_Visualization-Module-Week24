{
  "nbformat": 4,
  "nbformat_minor": 0,
  "metadata": {
    "colab": {
      "name": "Week_24_Homework.ipynb",
      "provenance": [],
      "collapsed_sections": []
    },
    "kernelspec": {
      "name": "python3",
      "display_name": "Python 3"
    },
    "language_info": {
      "name": "python"
    }
  },
  "cells": [
    {
      "cell_type": "code",
      "execution_count": null,
      "metadata": {
        "id": "QDn73gbFx_eh"
      },
      "outputs": [],
      "source": [
        "import numpy as np \n",
        "import pandas as pd \n",
        "import seaborn as sns \n",
        "import matplotlib.pyplot as plt  \n",
        "import warnings            \n",
        "warnings.filterwarnings(\"ignore\") "
      ]
    },
    {
      "cell_type": "code",
      "source": [
        "data = pd.read_csv('car_data_v1.csv')\n",
        "df = data.copy()"
      ],
      "metadata": {
        "id": "fu8dajH9yS3X"
      },
      "execution_count": null,
      "outputs": []
    },
    {
      "cell_type": "markdown",
      "source": [
        "**1-Top 20 most advertised car models**"
      ],
      "metadata": {
        "id": "LUCjWWZVyXMA"
      }
    },
    {
      "cell_type": "code",
      "source": [
        "df['make-model'].value_counts().sort_values(ascending=False).head(20).plot.bar(figsize=(15,10),fontsize=12);"
      ],
      "metadata": {
        "id": "4ti1dxISyU3J"
      },
      "execution_count": null,
      "outputs": []
    },
    {
      "cell_type": "markdown",
      "source": [
        "**2-Frequencies of the number of vehicle advertisements placed in the advertisement according to the gear**"
      ],
      "metadata": {
        "id": "bRp0dur6yh2S"
      }
    },
    {
      "cell_type": "code",
      "source": [
        "df['Gears'].value_counts().sort_values(ascending=False).head(20).plot.bar(figsize=(15,10), fontsize=12, color='blue');\n",
        "plt.title(\"Frequencies of the Gear Type\",fontsize=20, color=\"black\")\n",
        "plt.xlabel(\"Gears\" ,fontsize=20, color='black')\n",
        "plt.ylabel(\"Frequency\", rotation=65, fontsize=20, color='black')"
      ],
      "metadata": {
        "id": "XbvOWahzynEB"
      },
      "execution_count": null,
      "outputs": []
    },
    {
      "cell_type": "markdown",
      "source": [
        "**3-Frequencies of the number of vehicle advertisements placed in the advertisement according to the fuel type**"
      ],
      "metadata": {
        "id": "i_7lZwn8yyde"
      }
    },
    {
      "cell_type": "code",
      "source": [
        "df['Fuel_Type'].value_counts().sort_values(ascending=False).plot.bar(figsize=(15,10),color=\"blue\",fontsize=12);\n",
        "plt.title(\"Frequencies of the Fuel Type\",fontsize=20,color=\"black\")\n",
        "plt.xlabel(\"Fuel_Type\" ,fontsize=20, color=\"black\")\n",
        "plt.ylabel(\"Frequency\",rotation=65,fontsize=20, color=\"black\")"
      ],
      "metadata": {
        "id": "V3ij1bnQy2Pi"
      },
      "execution_count": null,
      "outputs": []
    },
    {
      "cell_type": "markdown",
      "source": [
        "**4-Graph of average of prices of highest 20 by make-model.**"
      ],
      "metadata": {
        "id": "Sf-iMRblzASG"
      }
    },
    {
      "cell_type": "code",
      "source": [
        "df.groupby('make-model')['price'].mean().sort_values().head(20).plot.barh( figsize=(15,10),color=\"blue\",fontsize=12);\n",
        "plt.title(\"Average Prices\",fontsize=20, color=\"black\")\n",
        "plt.xlabel(\"Price_means\" ,fontsize=20, color='black')\n",
        "plt.ylabel(\"Brand\", rotation=90,fontsize=20, color='black')"
      ],
      "metadata": {
        "id": "ooLWeD5BzDjr"
      },
      "execution_count": null,
      "outputs": []
    },
    {
      "cell_type": "markdown",
      "source": [
        "**6-CO2 emission graph by fuel type**"
      ],
      "metadata": {
        "id": "pp7KnecdzLsM"
      }
    },
    {
      "cell_type": "code",
      "source": [
        "df.groupby('Fuel_Type')['co2_emissions'].mean().sort_values(ascending=False).plot.bar(figsize=(15,10),color=\"blue\",fontsize=12);\n",
        "plt.title(\"Average Prices\",fontsize=20, color=\"black\")\n",
        "plt.xlabel(\"Fuel_Type\" ,fontsize=20, color='black')\n",
        "plt.ylabel(\"co2_emissions\",rotation=90,fontsize=20, color='black')"
      ],
      "metadata": {
        "id": "qZIqmtmnzPPa"
      },
      "execution_count": null,
      "outputs": []
    },
    {
      "cell_type": "markdown",
      "source": [
        "**9-Average fuel consumption by brands**"
      ],
      "metadata": {
        "id": "vl5LSxLQzSAw"
      }
    },
    {
      "cell_type": "code",
      "source": [
        "df.groupby('make-model')['fuel_consumption'].mean().sort_values(ascending=False).head(20).plot.bar(figsize=(15,10),color=\"blue\",fontsize=12);\n",
        "plt.title(\"Average fuel_consumption\",fontsize=20, color=\"black\")\n",
        "plt.xlabel(\"make-model\" ,fontsize=20, color='black')\n",
        "plt.ylabel(\"fuel_consumption\",rotation=90,fontsize=20, color='black')"
      ],
      "metadata": {
        "id": "4gyJCO60zdPR"
      },
      "execution_count": null,
      "outputs": []
    },
    {
      "cell_type": "markdown",
      "source": [
        "**10-HP average highest 20 by brand**"
      ],
      "metadata": {
        "id": "IZ4npptjzkee"
      }
    },
    {
      "cell_type": "code",
      "source": [
        "df.groupby('make-model')['Power'].mean().sort_values(ascending=False).head(20).plot.bar(figsize=(15,10),color=\"blue\",fontsize=12);\n",
        "plt.title(\"Average HP\",fontsize=20, color=\"black\")\n",
        "plt.xlabel(\"make-model\" ,fontsize=20, color='black')\n",
        "plt.ylabel(\"Power\",rotation=90,fontsize=20, color='black')"
      ],
      "metadata": {
        "id": "B-KTxxROznfS"
      },
      "execution_count": null,
      "outputs": []
    },
    {
      "cell_type": "markdown",
      "source": [
        "**11-Vehicle weight chart by brand**"
      ],
      "metadata": {
        "id": "os32TNS_zuKi"
      }
    },
    {
      "cell_type": "code",
      "source": [
        "df.groupby('make-model')['Empty_weight'].mean().sort_values(ascending=False).head(20).plot.bar(figsize=(15,10),color=\"blue\",fontsize=12);\n",
        "plt.title(\"Average Empty_weight\",fontsize=20, color=\"black\")\n",
        "plt.xlabel(\"make-model\" ,fontsize=20, color='black')\n",
        "plt.ylabel(\"Empty_weight\",rotation=90,fontsize=20, color='black')"
      ],
      "metadata": {
        "id": "ecEvKc7-zyfE"
      },
      "execution_count": null,
      "outputs": []
    }
  ]
}